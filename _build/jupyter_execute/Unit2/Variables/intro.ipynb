{
 "cells": [
  {
   "cell_type": "markdown",
   "metadata": {},
   "source": [
    "Intro to Variables\n",
    "==================\n",
    "\n",
    "It's time to learn how to create attributes within our Java programs! The way we do this is with a programming concept called <b><i>variables</i></b>. Does this term sound super familiar to you? It's possible that you heard about it in your Algebra class, which is a class all about variables! The variables you learned about in your Algebra class are very similar to the variables that you will see and create in this class; in both cases, <b><i>they are the names we give values</i></b>.\n",
    "\n",
    "For example, you may have seen a simple equation in your Algebra class that looks like this:\n",
    "\n",
    "`x = 3`\n",
    "\n",
    "If I asked you \"What is x?\" you would (hopefully) answer with \"3\". See, the name `x` is given to the value `3`! We will do the same thing in this class, except it will look something like this:"
   ]
  },
  {
   "cell_type": "code",
   "execution_count": null,
   "metadata": {},
   "outputs": [],
   "source": [
    " int x = 3;   "
   ]
  },
  {
   "cell_type": "markdown",
   "metadata": {},
   "source": [
    "As you can see, this line of code is a statement[^*]! Remember, that means we are asking our computer to do something. But what exactly are we asking it to do? Well, we are asking our computer to associate the name `x` with the value `3`. So, when I ask you what `x` is in this class, you can respond with \"x is 3\", or \"x gets 3\", or \"x is assigned to 3\". All of these responses are valid and they all mean the same thing.\n",
    "\n",
    "I prefer the last response, \"x is assigned to 3\", because this secretly refers to the name computer scientists give the equal sign; they call it the <b><i>assignment operator</i></b>. The assignment operator is responsible for actually telling our computer that you ship a particular name and value.\n",
    "\n",
    "```{image} https://media.giphy.com/media/HkA9xsCxJCRWw/giphy.gif\n",
    ":alt: Shipping variables\n",
    ":height: 200px\n",
    "```\n",
    "<br>Now, in your Algebra class, it's kind of assumed that the values that variables can be assigned to are numbers --- makes sense, it is a math class after all. However, in computer science, the collection of values that a variable can be assigned to is much larger. We will learn about all of them over the next few weeks. For now, I want you to notice the strange little `int` word in the example above. This keyword tells our computer what <b><i>type</i></b> of value can be found in the variable; in the example above, the type of the variable `x` is an integer because 3 is an integer.\n",
    "\n",
    "\n",
    "[^*]: You can tell it's a statement because it ends in a semi-colon.\n",
    "\n",
    "```{toctree}\n",
    ":hidden:\n",
    ":titlesonly:\n",
    "\n",
    "\n",
    "numbers\n",
    "booleans\n",
    "strings\n",
    "arrays\n",
    "arraylists\n",
    "```"
   ]
  }
 ],
 "metadata": {
  "jupytext": {
   "formats": "md:myst",
   "text_representation": {
    "extension": ".md",
    "format_name": "myst"
   }
  },
  "kernelspec": {
   "display_name": "Java",
   "language": "java",
   "name": "java"
  },
  "language_info": {
   "file_extension": ".txt"
  },
  "source_map": [
   11,
   22,
   24
  ]
 },
 "nbformat": 4,
 "nbformat_minor": 4
}