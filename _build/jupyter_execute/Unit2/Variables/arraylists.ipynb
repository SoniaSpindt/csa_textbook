{
 "cells": [
  {
   "cell_type": "markdown",
   "metadata": {},
   "source": [
    "ArrayLists\n",
    "==========\n",
    "\n",
    "The creators of Java heard everyone's pleas and decided to add create a class that every programmer could use, and they called it 'ArrayLists'. ArrayLists are JUST like arrays, except their size can change depending on how much information that you need to store within them.\n",
    "\n",
    "Here is an example of how you would declare and initialize a variable to an ArrayList instead of an array."
   ]
  },
  {
   "cell_type": "code",
   "execution_count": null,
   "metadata": {},
   "outputs": [],
   "source": [
    "/* Import the ArrayList class */\n",
    "import java.util.ArrayList;\n",
    "\n",
    "/* Declare and initialize the variable brands to an ArrayList of Strings. */\n",
    "ArrayList<String> brands = new ArrayList<String>();"
   ]
  },
  {
   "cell_type": "markdown",
   "metadata": {},
   "source": [
    "Because ArrayLists were added later on, they are not a part of the standard Java library. This means our computers will have no idea what you're talking about until you import the ArrayList class. Importing classes gives your program access to them! When you want to use ArrayLists in your program, you write the statement `import java.util.ArrayList` at the very top. This line of code will always live at the top of your program! Once you do this, you can <b><i>instantiate</i></b> as many ArrayLists in your program as you would like.\n",
    "\n",
    "As you can see, we have a new data type keyword, `ArrayList`, and because it is capitalized, we know that it is an object! Just like arrays, you cannot mix data types in ArrayLists! That's why we have to list the data type yet again, and you do this by putting the data type inside of brackets (`<>`). In the example above, Strings are found in the `brands` ArrayList.\n",
    "\n",
    "On the right side of the assignment operator, you will see the `new` keyword. Follow that with the type again, a set of parentheses, and a semi-colon, and you have just instantiated your first ArrayList! We will talk more about why this statement needs a set of parentheses at the end next week. Until then, memorize that they are needed at the end of the statement.  \n",
    "\n",
    "```{admonition} TL;DR\n",
    ":class: warning\n",
    "ArrayLists are like arrays except they can change in size!\n",
    "```"
   ]
  }
 ],
 "metadata": {
  "jupytext": {
   "formats": "md:myst",
   "text_representation": {
    "extension": ".md",
    "format_name": "myst"
   }
  },
  "kernelspec": {
   "display_name": "Java",
   "language": "java",
   "name": "java"
  },
  "language_info": {
   "file_extension": ".txt"
  },
  "source_map": [
   11,
   20,
   26
  ]
 },
 "nbformat": 4,
 "nbformat_minor": 4
}