{
 "cells": [
  {
   "cell_type": "markdown",
   "metadata": {},
   "source": [
    "Strings\n",
    "=======\n",
    "\n",
    "Before we begin talking about a new data <i>type</i>, I want us to take a quick second to admire the data <i>types</i> that we have seen so far. They are:\n",
    "\n",
    "```{admonition} Data Types\n",
    "1.  `int`\n",
    "2. `double`\n",
    "2. `boolean`\n",
    "```\n",
    "\n",
    "It is important to notice that these three data <i>types</i> have a few things in common. First of all, the keywords that represent all of these data types begin with a lowercase letter. I know this doesn't seem particularly special or important, but this fact can help you determine if a type is considered a \"primitive data type\". I like to think of the primitive data types as the fundamental building-blocks of programming in Java; they are like a single brick in a giant building or a single atom found in an insanely complex molecule!\n",
    "\n",
    "Secondly, these data types are relatively small in size! This means they can be stored directly in variables. Consider the following Java program that declares and initializes three variables, one of each data type that we have seen so far:\n",
    "\n",
    "```Java\n",
    "1. int airPodsPurchased = 1;\n",
    "2. double price = 124.99;\n",
    "3. boolean wireless = true;\n",
    "```\n",
    "\n",
    "Here is how our computer would think about these three lines of code:\n",
    "```{image} https://media.giphy.com/media/polVkhmJJmfO8OexvP/giphy.gif\n",
    ":alt: Notional machine primitive data types.\n",
    ":height: 300px\n",
    "```\n",
    "\n",
    "<br>As you can see, these values sit directly in the boxes that represent each variable. They can do this because they are primitive data types. This is important to remember because the data type that we are learning about today does not do this. Why? Because it's secretly an object. GASP!!!\n",
    "\n",
    "```{image} https://media3.giphy.com/media/3oEjHKvjqt5pssL99C/giphy.gif\n",
    ":alt: Shock and awe gif.\n",
    ":height: 200px\n",
    "```\n",
    "<br>This new and improved data type is called a <b><i>String</i></b>, and it represents all of the characters you can find on your computer's keyboard. Here's what it would look like to declare and initialize a variable of <i>type</i> <b>String</b>:"
   ]
  },
  {
   "cell_type": "code",
   "execution_count": null,
   "metadata": {},
   "outputs": [],
   "source": [
    "/* Declare a variable of type String */\n",
    "String brand;\n",
    "\n",
    "/* Initialize the variable to a String value */\n",
    "brand = \"Ford\";\n",
    "\n",
    "System.out.println(brand);"
   ]
  },
  {
   "cell_type": "markdown",
   "metadata": {},
   "source": [
    "Notice how the keyword `String` begins with a capital letter? This tells us that the type is an object. More specifically, it's an object created from the String class. You should also notice that the variable `brand` is initialized to the value `\"Ford\"`, which is a collection of letters found on your keyboard, surrounded by quotation marks. The quotation marks MUST be placed around all String values. It doesn't matter what characters you put inside; as long as you surround those characters with quotation marks it will be seen by your compiler as <i>type</i> `String`.\n",
    "\n",
    "This isn't all you should know about Strings! Keep reading to see how our computer thinks about Strings stored in variables.\n",
    "\n",
    "```{admonition} TL;DR\n",
    ":class: warning\n",
    "1. The data type `String` is an object, not a primitive.\n",
    "2. All Strings need quotation marks!\n",
    "```"
   ]
  }
 ],
 "metadata": {
  "jupytext": {
   "formats": "md:myst",
   "text_representation": {
    "extension": ".md",
    "format_name": "myst"
   }
  },
  "kernelspec": {
   "display_name": "Java",
   "language": "java",
   "name": "java"
  },
  "source_map": [
   11,
   48,
   56
  ]
 },
 "nbformat": 4,
 "nbformat_minor": 4
}