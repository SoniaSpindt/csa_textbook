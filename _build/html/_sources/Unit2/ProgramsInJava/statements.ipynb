{
 "cells": [
  {
   "cell_type": "markdown",
   "metadata": {},
   "source": [
    "Statements\n",
    "==========\n",
    "```{epigraph}\n",
    "To understand a program you must become both the machine and the program.\n",
    "\n",
    "-- Alan Perlis\n",
    "```\n",
    "Like Dr. Perlis, I am convinced that you need to know a little bit about how your computer works in order to better understand how to control them. I hope that by explicitly naming some of the underlying components of your computer, you will be better able to explain and predict all of its observable behavior. This ability will not only help you do really well on the AP CSA exam, but it will give you an edge in future computer science classes that you take. :)\n",
    "\n",
    "Today, we will begin our exploration of the machine by discussing the general life-cycle of a Java program. This life-cycle starts with you! How? Well, one day you will decide that you need a Java program in your life --- maybe that day is today! In order to write this program, you must first create a new file. Think of this like opening a new Google Doc for an essay you need to write. However, instead of writing English sentences in a <b>.doc</b> file, you will write lines of code in a <b>.java</b> file.\n",
    "\n",
    "Now imagine that you were super productive and wrote a bit of Java code into your <b>.java</b> file. It looks like this:"
   ]
  },
  {
   "cell_type": "code",
   "execution_count": 1,
   "metadata": {
    "execution": {
     "iopub.execute_input": "2020-09-27T19:02:49.626695Z",
     "iopub.status.busy": "2020-09-27T19:02:49.625216Z",
     "iopub.status.idle": "2020-09-27T19:02:50.086813Z",
     "shell.execute_reply": "2020-09-27T19:02:50.085999Z"
    }
   },
   "outputs": [
    {
     "name": "stdout",
     "output_type": "stream",
     "text": [
      "Hello, world!\n"
     ]
    }
   ],
   "source": [
    " System.out.println(\"Hello, world!\");    "
   ]
  },
  {
   "cell_type": "markdown",
   "metadata": {},
   "source": [
    "Don't panic! It's normal to look at this code and think it makes no sense! We will talk about the specifics of this code over the next few weeks. For now, I want you to know that this line of code represents something we call a <b><i>statement</i></b> in Java. A statement is an action that we ask our computers to perform. Our Java programs will be riddled with statements because this is how we actually get our computers to do stuff. In this example, I am asking my computer to display the phrase \"Hello, world!\". That's an action. The computer must read this line of code and then DO something (i.e. display the sentence).\n",
    "\n",
    "If you're currently thinking that this sounds a lot like our definition of the term method, then you're right! In fact, \"println\" is a method name! However, not all statements will be made up of method names. Sometimes they will be filled with attribute names . Other times, they will be filled with both! In any case, all statements include the use of a semi-colon. If you are ever confused about whether or not you're looking at a statement, see if you can find a semi-colon nearby.\n",
    "\n",
    "What would happen if we gave our computer the following program?"
   ]
  },
  {
   "cell_type": "code",
   "execution_count": 2,
   "metadata": {
    "execution": {
     "iopub.execute_input": "2020-09-27T19:02:50.140298Z",
     "iopub.status.busy": "2020-09-27T19:02:50.139305Z",
     "iopub.status.idle": "2020-09-27T19:02:50.224647Z",
     "shell.execute_reply": "2020-09-27T19:02:50.225090Z"
    }
   },
   "outputs": [
    {
     "name": "stdout",
     "output_type": "stream",
     "text": [
      "I'm a savage\n"
     ]
    },
    {
     "name": "stdout",
     "output_type": "stream",
     "text": [
      "Classy, bougie, ratchet\n"
     ]
    },
    {
     "name": "stdout",
     "output_type": "stream",
     "text": [
      "Sassy, moody, nasty\n"
     ]
    },
    {
     "name": "stdout",
     "output_type": "stream",
     "text": [
      "Acting stupid, what's happening?\n"
     ]
    }
   ],
   "source": [
    "System.out.println(\"I'm a savage\");  \n",
    "System.out.println(\"Classy, bougie, ratchet\");\n",
    "System.out.println(\"Sassy, moody, nasty\");\n",
    "System.out.println(\"Acting stupid, what's happening?\");  \n"
   ]
  },
  {
   "cell_type": "markdown",
   "metadata": {},
   "source": [
    "Go ahead! Click on the run button! :)\n",
    "\n",
    "As you can see, your computer instantly spits out the chorus of Megan Thee Stallion's song Savage. This may feel like magic but it's not! In reality, some super awesome software is systematically working behind the scenes to display these lyrics for you. What is this software? And how does it work? Spoiler alert! Go to the next page of this textbook."
   ]
  }
 ],
 "metadata": {
  "jupytext": {
   "formats": "md:myst",
   "text_representation": {
    "extension": ".md",
    "format_name": "myst"
   }
  },
  "kernelspec": {
   "display_name": "Java",
   "language": "java",
   "name": "java"
  },
  "language_info": {
   "codemirror_mode": "java",
   "file_extension": ".jshell",
   "mimetype": "text/x-java-source",
   "name": "Java",
   "pygments_lexer": "java",
   "version": "15+36-1562"
  },
  "source_map": [
   11,
   26,
   28,
   35,
   42
  ]
 },
 "nbformat": 4,
 "nbformat_minor": 4
}