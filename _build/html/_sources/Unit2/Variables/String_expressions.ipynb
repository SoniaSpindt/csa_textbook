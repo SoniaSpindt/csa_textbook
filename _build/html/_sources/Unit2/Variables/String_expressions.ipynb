{
 "cells": [
  {
   "cell_type": "markdown",
   "metadata": {},
   "source": [
    "Strings in Expressions\n",
    "======================\n",
    "\n",
    "Years of math classes have probably convinced you that it's possible to add numbers together. What about Strings? Can we add them together? Yup! However, it's not as fancy a process as adding numbers together; when we add Strings together, we simply squish the strings together, so they become one giant String.  \n",
    "\n",
    "Take a look at this program and try to predict what will be displayed as a result of executing this program (don't press run until you're ready to check your answer!):"
   ]
  },
  {
   "cell_type": "code",
   "execution_count": null,
   "metadata": {},
   "outputs": [],
   "source": [
    "String firstName = \"Greatest\";\n",
    "String lastName = \"Ever\";\n",
    "String fullName = firstName + \" \" + lastName;\n",
    "\n",
    "System.out.println(fullName);"
   ]
  },
  {
   "cell_type": "markdown",
   "metadata": {},
   "source": [
    "Take a look at the third line of the program. This statement contains the expression, `firstName + \" \" + lastName`. Your computer will simplify this expression by first grabbing the Strings that are referenced by the variables `firstName` and `lastName`. Then, your computer will add all of the Strings together to make a new String object. It's this String that is assigned to the variable `fullName`.\n",
    "\n",
    "To summarize, your computer might process this program like so:\n",
    "\n",
    "```{image} https://media.giphy.com/media/2dzz7dRZaiOPoJVOci/giphy.gif\n",
    ":alt: Notional machine String concatenation.\n",
    ":height: 300px\n",
    "```\n",
    "\n",
    "\n",
    "[^*]: \" \" is a String because it uses the quotation marks! I know that it doesn't look like there's anything there, but there is! It's a space character. You can even have an empty String that looks like this \"\"."
   ]
  }
 ],
 "metadata": {
  "jupytext": {
   "formats": "md:myst",
   "text_representation": {
    "extension": ".md",
    "format_name": "myst"
   }
  },
  "kernelspec": {
   "display_name": "Java",
   "language": "java",
   "name": "java"
  },
  "source_map": [
   11,
   20,
   26
  ]
 },
 "nbformat": 4,
 "nbformat_minor": 4
}