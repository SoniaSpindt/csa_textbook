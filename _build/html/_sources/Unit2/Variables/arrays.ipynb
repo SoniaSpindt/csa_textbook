{
 "cells": [
  {
   "cell_type": "markdown",
   "metadata": {},
   "source": [
    "Arrays\n",
    "======\n",
    "\n",
    "Take a look at this Java program:"
   ]
  },
  {
   "cell_type": "code",
   "execution_count": null,
   "metadata": {},
   "outputs": [],
   "source": [
    "String sneaker1 = \"Air Jordan 1\";\n",
    "String sneaker2 = \"Buscemi 100 MM Diamond\";\n",
    "String sneaker3 = \"Air Jordan 12 (Flu Game)\";\n",
    "String sneaker4 = \"Air Jordan 11 'Jeter'\";\n",
    "String sneaker5 = \"Nike Air Mag Back to the Future\";\n",
    "String sneaker6 = \"Adidas NMD_R1 Friends and Family\";\n",
    "String sneaker7 = \"Nike Yeezy 2 Red October\";\n",
    "String sneaker8 = \"Solid Gold OVO x Air Jordan\";\n",
    "String sneaker9 = \"Nike Moon Shoe\";\n",
    "String sneaker10 = \"Air Jordan Silver Shoes\";"
   ]
  },
  {
   "cell_type": "markdown",
   "metadata": {},
   "source": [
    "<br>Is this you right now?\n",
    "```{image} https://media.giphy.com/media/aMO3tYzgitW8c8u2Si/giphy.gif\n",
    ":alt: Doing too much\n",
    ":height: 200px\n",
    "```\n",
    "<br>I'm right there with you; there are SO many variables in the program above! Technically speaking, there's nothing wrong with this program, but it sure would be nice to embrace our lazy selves again. How could be streamline this a bit more? Well, we could do something like this!"
   ]
  },
  {
   "cell_type": "code",
   "execution_count": null,
   "metadata": {},
   "outputs": [],
   "source": [
    "String[] sneakers = {\"Air Jordan 1\", \"Buscemi 100 MM Diamond\", \"Air Jordan 12 (Flu Game)\", \"Air Jordan 11 'Jeter'\", \"Nike Air Mag Back to the Future\", \"Adidas NMD_R1 Friends and Family\", \"Nike Yeezy 2 Red October\", \"Solid Gold OVO x Air Jordan\", \"Nike Moon Shoe\", \"Air Jordan Silver Shoes\"};"
   ]
  },
  {
   "cell_type": "markdown",
   "metadata": {},
   "source": [
    "```{image} https://i.imgur.com/3v3NsPD.gif\n",
    ":alt: SO nice\n",
    ":height: 200px\n",
    "```\n",
    "<br>SO much better, right?\n",
    "\n",
    "When we need to store multiple values in a single variable we use something called an <b><i>array</i></b> in Java. How are they used? Pay attention to how I declared the sneakers variable: `String[] sneakers`. It looks a lot like how we declare reference variables for Strings! However, if you squint really hard, you'll notice that there are now square brackets (`[]`) after the keyword `String`. The square brackets are how we let our computer know that we plan on initializing `sneakers` to a list of String objects, instead of single String.\n",
    "\n",
    "Initialization is also very similar to what we have seen so far. In this case, all you need to do is list every value that you would like to use in between a pair of curly braces (`{}`). The commas are important to include within your list because they separate the values from one other. Everything else about our data types is the same; booleans are never capitalized, Strings must be contained within quotes, and your numbers are either integers or decimal values.\n",
    "\n",
    "Here is what it would look like to declare variables of the four data types that we have seen so far, and initialize them to arrays:"
   ]
  },
  {
   "cell_type": "code",
   "execution_count": null,
   "metadata": {},
   "outputs": [],
   "source": [
    "int[] ids = {0341, 2293, 7182};\n",
    "double[] temps = {98.6, 95.9, 104.2};\n",
    "boolean[] test_results = {false, false, true};\n",
    "String[] patients = {\"Robert Blah\", \"Jane Smith\", \"John Doe\"};\n",
    "System.out.println(patients);"
   ]
  },
  {
   "cell_type": "markdown",
   "metadata": {},
   "source": [
    "If you haven't already executed this program, please do so now. You will notice that when we use the System.out.println statement to display the `patients` array, we see something hella weird: `[Ljava.lang.String;@b2e0fdf`.\n",
    "\n",
    "This is how your computer tells you that there is an object stored in a chunk of memory called \"b2e0fdf\". In other words, this is what it looks like to display the value of a reference variable; it displays the actual reference!\n",
    "\n",
    "You know what this also means? This means that arrays are objects! I know it's hard to tell in this case because we can't check to see if the keyword in our declaration statement is capitalized because there is no `array` keyword to look at. Instead, you will just have to memorize the fact that arrays are objects and the variables that store them are reference variables.\n",
    "\n",
    "If it helps, this is how our computer will think about the program above:\n",
    "\n",
    "```{image} https://media.giphy.com/media/E6HeNCJLpSFF9AqhYK/giphy.gif\n",
    ":alt: Notional machine arrays\n",
    ":height: 300px\n",
    "```\n",
    "\n",
    "One last thing! You cannot store values of different <b><i>types</i></b> in a single array. Remember, Java is hella picky when it comes to the types of values that are stored in variables. This trend continues into the use of arrays. If you try to mix values together, like int and double, in a single array, your compiler will yell at you.  \n",
    "\n",
    "```{admonition} TL;DR\n",
    ":class: warning\n",
    "1. Arrays are how we store multiple values in a single variable! \n",
    "2. Don't forget to use your square brackets and curly braces when declaring and initializing variables to arrays.\n",
    "```"
   ]
  }
 ],
 "metadata": {
  "jupytext": {
   "formats": "md:myst",
   "text_representation": {
    "extension": ".md",
    "format_name": "myst"
   }
  },
  "kernelspec": {
   "display_name": "Java",
   "language": "java",
   "name": "java"
  },
  "language_info": {
   "file_extension": ".txt"
  },
  "source_map": [
   11,
   18,
   29,
   37,
   39,
   51,
   57
  ]
 },
 "nbformat": 4,
 "nbformat_minor": 4
}