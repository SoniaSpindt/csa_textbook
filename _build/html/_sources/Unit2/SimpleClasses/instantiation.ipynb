{
 "cells": [
  {
   "cell_type": "markdown",
   "metadata": {},
   "source": [
    "Instantiation\n",
    "============\n",
    "```{image} https://media1.tenor.com/images/47485a5099343f3922ea6194b593c4a4/tenor.gif?itemid=15610644\n",
    ":alt: Guess who's back!\n",
    ":height: 300px\n",
    "```\n",
    "<br>THE MAIN CLASS! :D\n",
    "\n",
    "```{image} main.png\n",
    ":alt: Main class\n",
    ":height: 300px\n",
    "```\n",
    "\n",
    "<br>The Main class is important to include in every Java program that you write because it's where you instantiate objects!\n",
    "\n",
    "In order to instantiate objects in the Main class, you must write a statement that looks like this: `new Name();` Look familiar? It should look a lot like how we created ArrayLists! Now, imagine that we want to instantiate three new `Student` objects from our Student class. We would need to write code that looks like this:"
   ]
  },
  {
   "cell_type": "code",
   "execution_count": null,
   "metadata": {},
   "outputs": [],
   "source": [
    "class Main {\n",
    "  public static void main(String[] args) {\n",
    "    new Student();\n",
    "    new Student();\n",
    "    new Student();\n",
    "  }\n",
    "}"
   ]
  },
  {
   "cell_type": "markdown",
   "metadata": {},
   "source": [
    "This statement is asking our computer to jump into the Student class and execute the contents of its constructor. However, in the example above, we don't do anything with those Student objects once they are created; they are created and then instantly forgotten by our computer. Lame.\n",
    "\n",
    "It would be much more useful to couple the instantiation of these objects with the declaration and initialization of a reference variable. That way, we can indirectly tell our computer that we would like the objects to be saved for later. It also means that we can refer to a particular, unique Student object by its variable's name. So instead of wasting space like we did above, consider doing something like this instead:"
   ]
  },
  {
   "cell_type": "code",
   "execution_count": null,
   "metadata": {},
   "outputs": [],
   "source": [
    "class Main {\n",
    "  public static void main(String[] args) {\n",
    "    Student a = new Student();\n",
    "    Student b = new Student();\n",
    "    Student c = new Student();\n",
    "  }\n",
    "}"
   ]
  },
  {
   "cell_type": "markdown",
   "metadata": {},
   "source": [
    "Like always, we have to list the type of data we plan on pointing to with our reference variables `a`, `b`, and `c`. However, instead of it being a standard Java data type, like String or int, it's a type that we created by declaring a new class! The variables `a`, `b`, and `c` are of type `Student`! The rest of the statement should look familiar --- write the keyword `new` and then the name of the constructor that you would like your computer to use, followed by a set of parentheses and a semi-colon.\n",
    "\n",
    "If it helps, this is how our computer would think about this program:\n",
    "\n",
    "\n",
    "\n",
    "And that's essentially it! We will expand our understanding of instantiation in future classes, but it will always boil down to the major ideas discussed in this section."
   ]
  }
 ],
 "metadata": {
  "jupytext": {
   "formats": "md:myst",
   "text_representation": {
    "extension": ".md",
    "format_name": "myst"
   }
  },
  "kernelspec": {
   "display_name": "Java",
   "language": "java",
   "name": "java"
  },
  "language_info": {
   "file_extension": ".txt"
  },
  "source_map": [
   11,
   29,
   37,
   42,
   50
  ]
 },
 "nbformat": 4,
 "nbformat_minor": 4
}